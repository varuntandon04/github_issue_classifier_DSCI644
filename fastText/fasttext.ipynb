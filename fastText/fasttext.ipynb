{
  "nbformat": 4,
  "nbformat_minor": 0,
  "metadata": {
    "colab": {
      "name": "fasttext.ipynb",
      "provenance": [],
      "collapsed_sections": []
    },
    "kernelspec": {
      "name": "python3",
      "display_name": "Python 3"
    },
    "language_info": {
      "name": "python"
    }
  },
  "cells": [
    {
      "cell_type": "code",
      "execution_count": 1,
      "metadata": {
        "colab": {
          "base_uri": "https://localhost:8080/"
        },
        "id": "sv1QEpEvxqkL",
        "outputId": "f53530a5-fd1b-4c6c-fb83-f4d88d25f185"
      },
      "outputs": [
        {
          "output_type": "stream",
          "name": "stdout",
          "text": [
            "--2022-04-26 00:45:24--  https://github.com/facebookresearch/fastText/archive/v0.9.2.zip\n",
            "Resolving github.com (github.com)... 140.82.112.3\n",
            "Connecting to github.com (github.com)|140.82.112.3|:443... connected.\n",
            "HTTP request sent, awaiting response... 302 Found\n",
            "Location: https://codeload.github.com/facebookresearch/fastText/zip/refs/tags/v0.9.2 [following]\n",
            "--2022-04-26 00:45:24--  https://codeload.github.com/facebookresearch/fastText/zip/refs/tags/v0.9.2\n",
            "Resolving codeload.github.com (codeload.github.com)... 140.82.114.9\n",
            "Connecting to codeload.github.com (codeload.github.com)|140.82.114.9|:443... connected.\n",
            "HTTP request sent, awaiting response... 200 OK\n",
            "Length: unspecified [application/zip]\n",
            "Saving to: ‘v0.9.2.zip’\n",
            "\n",
            "v0.9.2.zip              [  <=>               ]   4.17M  14.4MB/s    in 0.3s    \n",
            "\n",
            "2022-04-26 00:45:25 (14.4 MB/s) - ‘v0.9.2.zip’ saved [4369852]\n",
            "\n"
          ]
        }
      ],
      "source": [
        "!wget https://github.com/facebookresearch/fastText/archive/v0.9.2.zip"
      ]
    },
    {
      "cell_type": "code",
      "source": [
        "! unzip v0.9.2.zip"
      ],
      "metadata": {
        "colab": {
          "base_uri": "https://localhost:8080/"
        },
        "id": "Kt5VEsIuzyka",
        "outputId": "ac65c2fa-3170-4a61-c40d-d48cac42852f"
      },
      "execution_count": 2,
      "outputs": [
        {
          "output_type": "stream",
          "name": "stdout",
          "text": [
            "Archive:  v0.9.2.zip\n",
            "5b5943c118b0ec5fb9cd8d20587de2b2d3966dfe\n",
            "   creating: fastText-0.9.2/\n",
            "   creating: fastText-0.9.2/.circleci/\n",
            "  inflating: fastText-0.9.2/.circleci/cmake_test.sh  \n",
            "  inflating: fastText-0.9.2/.circleci/config.yml  \n",
            "  inflating: fastText-0.9.2/.circleci/gcc_test.sh  \n",
            "  inflating: fastText-0.9.2/.circleci/pip_test.sh  \n",
            "  inflating: fastText-0.9.2/.circleci/pull_data.sh  \n",
            "  inflating: fastText-0.9.2/.circleci/python_test.sh  \n",
            "  inflating: fastText-0.9.2/.circleci/run_locally.sh  \n",
            "  inflating: fastText-0.9.2/.circleci/setup_circleimg.sh  \n",
            "  inflating: fastText-0.9.2/.circleci/setup_debian.sh  \n",
            "  inflating: fastText-0.9.2/.gitignore  \n",
            "  inflating: fastText-0.9.2/CMakeLists.txt  \n",
            "  inflating: fastText-0.9.2/CODE_OF_CONDUCT.md  \n",
            "  inflating: fastText-0.9.2/CONTRIBUTING.md  \n",
            "  inflating: fastText-0.9.2/LICENSE  \n",
            "  inflating: fastText-0.9.2/MANIFEST.in  \n",
            "  inflating: fastText-0.9.2/Makefile  \n",
            "  inflating: fastText-0.9.2/README.md  \n",
            "   creating: fastText-0.9.2/alignment/\n",
            "  inflating: fastText-0.9.2/alignment/README.md  \n",
            "  inflating: fastText-0.9.2/alignment/align.py  \n",
            "  inflating: fastText-0.9.2/alignment/eval.py  \n",
            "  inflating: fastText-0.9.2/alignment/example.sh  \n",
            "  inflating: fastText-0.9.2/alignment/unsup_align.py  \n",
            "  inflating: fastText-0.9.2/alignment/unsup_multialign.py  \n",
            "  inflating: fastText-0.9.2/alignment/utils.py  \n",
            "  inflating: fastText-0.9.2/classification-example.sh  \n",
            "  inflating: fastText-0.9.2/classification-results.sh  \n",
            "   creating: fastText-0.9.2/crawl/\n",
            "  inflating: fastText-0.9.2/crawl/README.md  \n",
            "  inflating: fastText-0.9.2/crawl/dedup.cc  \n",
            "  inflating: fastText-0.9.2/crawl/download_crawl.sh  \n",
            "  inflating: fastText-0.9.2/crawl/filter_dedup.sh  \n",
            "  inflating: fastText-0.9.2/crawl/filter_utf8.cc  \n",
            "  inflating: fastText-0.9.2/crawl/process_wet_file.sh  \n",
            "   creating: fastText-0.9.2/docs/\n",
            "  inflating: fastText-0.9.2/docs/aligned-vectors.md  \n",
            "  inflating: fastText-0.9.2/docs/api.md  \n",
            "  inflating: fastText-0.9.2/docs/autotune.md  \n",
            "  inflating: fastText-0.9.2/docs/cheatsheet.md  \n",
            "  inflating: fastText-0.9.2/docs/crawl-vectors.md  \n",
            "  inflating: fastText-0.9.2/docs/dataset.md  \n",
            "  inflating: fastText-0.9.2/docs/english-vectors.md  \n",
            "  inflating: fastText-0.9.2/docs/faqs.md  \n",
            "  inflating: fastText-0.9.2/docs/language-identification.md  \n",
            "  inflating: fastText-0.9.2/docs/options.md  \n",
            "  inflating: fastText-0.9.2/docs/pretrained-vectors.md  \n",
            "  inflating: fastText-0.9.2/docs/python-module.md  \n",
            "  inflating: fastText-0.9.2/docs/references.md  \n",
            "  inflating: fastText-0.9.2/docs/supervised-models.md  \n",
            "  inflating: fastText-0.9.2/docs/supervised-tutorial.md  \n",
            "  inflating: fastText-0.9.2/docs/support.md  \n",
            "  inflating: fastText-0.9.2/docs/unsupervised-tutorials.md  \n",
            "  inflating: fastText-0.9.2/docs/webassembly-module.md  \n",
            "  inflating: fastText-0.9.2/download_model.py  \n",
            "  inflating: fastText-0.9.2/eval.py  \n",
            "  inflating: fastText-0.9.2/fasttext.pc.in  \n",
            "  inflating: fastText-0.9.2/get-wikimedia.sh  \n",
            "   creating: fastText-0.9.2/python/\n",
            "  inflating: fastText-0.9.2/python/README.md  \n",
            "  inflating: fastText-0.9.2/python/README.rst  \n",
            "   creating: fastText-0.9.2/python/benchmarks/\n",
            "  inflating: fastText-0.9.2/python/benchmarks/README.rst  \n",
            "  inflating: fastText-0.9.2/python/benchmarks/get_word_vector.py  \n",
            "   creating: fastText-0.9.2/python/doc/\n",
            "   creating: fastText-0.9.2/python/doc/examples/\n",
            "  inflating: fastText-0.9.2/python/doc/examples/FastTextEmbeddingBag.py  \n",
            "  inflating: fastText-0.9.2/python/doc/examples/bin_to_vec.py  \n",
            "  inflating: fastText-0.9.2/python/doc/examples/compute_accuracy.py  \n",
            "  inflating: fastText-0.9.2/python/doc/examples/get_vocab.py  \n",
            "  inflating: fastText-0.9.2/python/doc/examples/train_supervised.py  \n",
            "  inflating: fastText-0.9.2/python/doc/examples/train_unsupervised.py  \n",
            "   creating: fastText-0.9.2/python/fasttext_module/\n",
            "   creating: fastText-0.9.2/python/fasttext_module/fasttext/\n",
            "  inflating: fastText-0.9.2/python/fasttext_module/fasttext/FastText.py  \n",
            "  inflating: fastText-0.9.2/python/fasttext_module/fasttext/__init__.py  \n",
            "   creating: fastText-0.9.2/python/fasttext_module/fasttext/pybind/\n",
            "  inflating: fastText-0.9.2/python/fasttext_module/fasttext/pybind/fasttext_pybind.cc  \n",
            "   creating: fastText-0.9.2/python/fasttext_module/fasttext/tests/\n",
            "  inflating: fastText-0.9.2/python/fasttext_module/fasttext/tests/__init__.py  \n",
            "  inflating: fastText-0.9.2/python/fasttext_module/fasttext/tests/test_configurations.py  \n",
            "  inflating: fastText-0.9.2/python/fasttext_module/fasttext/tests/test_script.py  \n",
            "   creating: fastText-0.9.2/python/fasttext_module/fasttext/util/\n",
            "  inflating: fastText-0.9.2/python/fasttext_module/fasttext/util/__init__.py  \n",
            "  inflating: fastText-0.9.2/python/fasttext_module/fasttext/util/util.py  \n",
            "  inflating: fastText-0.9.2/quantization-example.sh  \n",
            "  inflating: fastText-0.9.2/reduce_model.py  \n",
            "  inflating: fastText-0.9.2/runtests.py  \n",
            "   creating: fastText-0.9.2/scripts/\n",
            "   creating: fastText-0.9.2/scripts/kbcompletion/\n",
            "  inflating: fastText-0.9.2/scripts/kbcompletion/README.md  \n",
            "  inflating: fastText-0.9.2/scripts/kbcompletion/data.sh  \n",
            "  inflating: fastText-0.9.2/scripts/kbcompletion/eval.cpp  \n",
            "  inflating: fastText-0.9.2/scripts/kbcompletion/fb15k.sh  \n",
            "  inflating: fastText-0.9.2/scripts/kbcompletion/fb15k237.sh  \n",
            "  inflating: fastText-0.9.2/scripts/kbcompletion/svo.sh  \n",
            "  inflating: fastText-0.9.2/scripts/kbcompletion/wn18.sh  \n",
            "   creating: fastText-0.9.2/scripts/quantization/\n",
            "  inflating: fastText-0.9.2/scripts/quantization/quantization-results.sh  \n",
            " extracting: fastText-0.9.2/setup.cfg  \n",
            "  inflating: fastText-0.9.2/setup.py  \n",
            "   creating: fastText-0.9.2/src/\n",
            "  inflating: fastText-0.9.2/src/args.cc  \n",
            "  inflating: fastText-0.9.2/src/args.h  \n",
            "  inflating: fastText-0.9.2/src/autotune.cc  \n",
            "  inflating: fastText-0.9.2/src/autotune.h  \n",
            "  inflating: fastText-0.9.2/src/densematrix.cc  \n",
            "  inflating: fastText-0.9.2/src/densematrix.h  \n",
            "  inflating: fastText-0.9.2/src/dictionary.cc  \n",
            "  inflating: fastText-0.9.2/src/dictionary.h  \n",
            "  inflating: fastText-0.9.2/src/fasttext.cc  \n",
            "  inflating: fastText-0.9.2/src/fasttext.h  \n",
            "  inflating: fastText-0.9.2/src/loss.cc  \n",
            "  inflating: fastText-0.9.2/src/loss.h  \n",
            "  inflating: fastText-0.9.2/src/main.cc  \n",
            "  inflating: fastText-0.9.2/src/matrix.cc  \n",
            "  inflating: fastText-0.9.2/src/matrix.h  \n",
            "  inflating: fastText-0.9.2/src/meter.cc  \n",
            "  inflating: fastText-0.9.2/src/meter.h  \n",
            "  inflating: fastText-0.9.2/src/model.cc  \n",
            "  inflating: fastText-0.9.2/src/model.h  \n",
            "  inflating: fastText-0.9.2/src/productquantizer.cc  \n",
            "  inflating: fastText-0.9.2/src/productquantizer.h  \n",
            "  inflating: fastText-0.9.2/src/quantmatrix.cc  \n",
            "  inflating: fastText-0.9.2/src/quantmatrix.h  \n",
            "  inflating: fastText-0.9.2/src/real.h  \n",
            "  inflating: fastText-0.9.2/src/utils.cc  \n",
            "  inflating: fastText-0.9.2/src/utils.h  \n",
            "  inflating: fastText-0.9.2/src/vector.cc  \n",
            "  inflating: fastText-0.9.2/src/vector.h  \n",
            "   creating: fastText-0.9.2/tests/\n",
            "  inflating: fastText-0.9.2/tests/fetch_test_data.sh  \n",
            "   creating: fastText-0.9.2/webassembly/\n",
            "  inflating: fastText-0.9.2/webassembly/README.md  \n",
            "   creating: fastText-0.9.2/webassembly/doc/\n",
            "   creating: fastText-0.9.2/webassembly/doc/examples/\n",
            "  inflating: fastText-0.9.2/webassembly/doc/examples/misc.html  \n",
            "  inflating: fastText-0.9.2/webassembly/doc/examples/predict.html  \n",
            "  inflating: fastText-0.9.2/webassembly/doc/examples/train_supervised.html  \n",
            "  inflating: fastText-0.9.2/webassembly/doc/examples/train_unsupervised.html  \n",
            "  inflating: fastText-0.9.2/webassembly/fasttext.js  \n",
            "  inflating: fastText-0.9.2/webassembly/fasttext_wasm.cc  \n",
            "   creating: fastText-0.9.2/website/\n",
            "  inflating: fastText-0.9.2/website/README.md  \n",
            "   creating: fastText-0.9.2/website/blog/\n",
            "  inflating: fastText-0.9.2/website/blog/2016-08-18-blog-post.md  \n",
            "  inflating: fastText-0.9.2/website/blog/2017-05-02-blog-post.md  \n",
            "  inflating: fastText-0.9.2/website/blog/2017-10-02-blog-post.md  \n",
            "  inflating: fastText-0.9.2/website/blog/2019-06-25-blog-post.md  \n",
            "   creating: fastText-0.9.2/website/core/\n",
            "  inflating: fastText-0.9.2/website/core/Footer.js  \n",
            "  inflating: fastText-0.9.2/website/package.json  \n",
            "   creating: fastText-0.9.2/website/pages/\n",
            "   creating: fastText-0.9.2/website/pages/en/\n",
            "  inflating: fastText-0.9.2/website/pages/en/index.js  \n",
            "  inflating: fastText-0.9.2/website/sidebars.json  \n",
            "  inflating: fastText-0.9.2/website/siteConfig.js  \n",
            "   creating: fastText-0.9.2/website/static/\n",
            "   creating: fastText-0.9.2/website/static/docs/\n",
            "   creating: fastText-0.9.2/website/static/docs/en/\n",
            "   creating: fastText-0.9.2/website/static/docs/en/html/\n",
            " extracting: fastText-0.9.2/website/static/docs/en/html/.classfasttext_1_1QMatrix-members.html.i4eKqy  \n",
            "  inflating: fastText-0.9.2/website/static/docs/en/html/annotated.html  \n",
            "  inflating: fastText-0.9.2/website/static/docs/en/html/annotated_dup.js  \n",
            "  inflating: fastText-0.9.2/website/static/docs/en/html/args_8cc.html  \n",
            "  inflating: fastText-0.9.2/website/static/docs/en/html/args_8h.html  \n",
            "  inflating: fastText-0.9.2/website/static/docs/en/html/args_8h.js  \n",
            "  inflating: fastText-0.9.2/website/static/docs/en/html/args_8h_source.html  \n",
            " extracting: fastText-0.9.2/website/static/docs/en/html/bc_s.png  \n",
            "  inflating: fastText-0.9.2/website/static/docs/en/html/bdwn.png  \n",
            "  inflating: fastText-0.9.2/website/static/docs/en/html/classes.html  \n",
            "  inflating: fastText-0.9.2/website/static/docs/en/html/classfasttext_1_1Args-members.html  \n",
            "  inflating: fastText-0.9.2/website/static/docs/en/html/classfasttext_1_1Args.html  \n",
            "  inflating: fastText-0.9.2/website/static/docs/en/html/classfasttext_1_1Args.js  \n",
            "  inflating: fastText-0.9.2/website/static/docs/en/html/classfasttext_1_1Dictionary-members.html  \n",
            "  inflating: fastText-0.9.2/website/static/docs/en/html/classfasttext_1_1Dictionary.html  \n",
            "  inflating: fastText-0.9.2/website/static/docs/en/html/classfasttext_1_1Dictionary.js  \n",
            "  inflating: fastText-0.9.2/website/static/docs/en/html/classfasttext_1_1FastText-members.html  \n",
            "  inflating: fastText-0.9.2/website/static/docs/en/html/classfasttext_1_1FastText.html  \n",
            "  inflating: fastText-0.9.2/website/static/docs/en/html/classfasttext_1_1FastText.js  \n",
            "  inflating: fastText-0.9.2/website/static/docs/en/html/classfasttext_1_1Matrix-members.html  \n",
            "  inflating: fastText-0.9.2/website/static/docs/en/html/classfasttext_1_1Matrix.html  \n",
            "  inflating: fastText-0.9.2/website/static/docs/en/html/classfasttext_1_1Matrix.js  \n",
            "  inflating: fastText-0.9.2/website/static/docs/en/html/classfasttext_1_1Model-members.html  \n",
            "  inflating: fastText-0.9.2/website/static/docs/en/html/classfasttext_1_1Model.html  \n",
            "  inflating: fastText-0.9.2/website/static/docs/en/html/classfasttext_1_1Model.js  \n",
            "  inflating: fastText-0.9.2/website/static/docs/en/html/classfasttext_1_1ProductQuantizer-members.html  \n",
            "  inflating: fastText-0.9.2/website/static/docs/en/html/classfasttext_1_1ProductQuantizer.html  \n",
            "  inflating: fastText-0.9.2/website/static/docs/en/html/classfasttext_1_1ProductQuantizer.js  \n",
            "  inflating: fastText-0.9.2/website/static/docs/en/html/classfasttext_1_1QMatrix-members.html  \n",
            "  inflating: fastText-0.9.2/website/static/docs/en/html/classfasttext_1_1QMatrix.html  \n",
            "  inflating: fastText-0.9.2/website/static/docs/en/html/classfasttext_1_1QMatrix.js  \n",
            "  inflating: fastText-0.9.2/website/static/docs/en/html/classfasttext_1_1Vector-members.html  \n",
            "  inflating: fastText-0.9.2/website/static/docs/en/html/classfasttext_1_1Vector.html  \n",
            "  inflating: fastText-0.9.2/website/static/docs/en/html/classfasttext_1_1Vector.js  \n",
            "  inflating: fastText-0.9.2/website/static/docs/en/html/closed.png  \n",
            "  inflating: fastText-0.9.2/website/static/docs/en/html/dictionary_8cc.html  \n",
            "  inflating: fastText-0.9.2/website/static/docs/en/html/dictionary_8h.html  \n",
            "  inflating: fastText-0.9.2/website/static/docs/en/html/dictionary_8h.js  \n",
            "  inflating: fastText-0.9.2/website/static/docs/en/html/dictionary_8h_source.html  \n",
            "  inflating: fastText-0.9.2/website/static/docs/en/html/dir_68267d1309a1af8e8297ef4c3efbcdba.html  \n",
            "  inflating: fastText-0.9.2/website/static/docs/en/html/dir_68267d1309a1af8e8297ef4c3efbcdba.js  \n",
            " extracting: fastText-0.9.2/website/static/docs/en/html/doc.png  \n",
            "  inflating: fastText-0.9.2/website/static/docs/en/html/doxygen.css  \n",
            " extracting: fastText-0.9.2/website/static/docs/en/html/doxygen.png  \n",
            "  inflating: fastText-0.9.2/website/static/docs/en/html/dynsections.js  \n",
            "  inflating: fastText-0.9.2/website/static/docs/en/html/fasttext_8cc.html  \n",
            "  inflating: fastText-0.9.2/website/static/docs/en/html/fasttext_8h.html  \n",
            "  inflating: fastText-0.9.2/website/static/docs/en/html/fasttext_8h.js  \n",
            "  inflating: fastText-0.9.2/website/static/docs/en/html/fasttext_8h_source.html  \n",
            "  inflating: fastText-0.9.2/website/static/docs/en/html/favicon.png  \n",
            "  inflating: fastText-0.9.2/website/static/docs/en/html/files.html  \n",
            "  inflating: fastText-0.9.2/website/static/docs/en/html/files.js  \n",
            " extracting: fastText-0.9.2/website/static/docs/en/html/folderclosed.png  \n",
            " extracting: fastText-0.9.2/website/static/docs/en/html/folderopen.png  \n",
            "  inflating: fastText-0.9.2/website/static/docs/en/html/functions.html  \n",
            "  inflating: fastText-0.9.2/website/static/docs/en/html/functions_0x7e.html  \n",
            "  inflating: fastText-0.9.2/website/static/docs/en/html/functions_b.html  \n",
            "  inflating: fastText-0.9.2/website/static/docs/en/html/functions_c.html  \n",
            "  inflating: fastText-0.9.2/website/static/docs/en/html/functions_d.html  \n",
            "  inflating: fastText-0.9.2/website/static/docs/en/html/functions_dup.js  \n",
            "  inflating: fastText-0.9.2/website/static/docs/en/html/functions_e.html  \n",
            "  inflating: fastText-0.9.2/website/static/docs/en/html/functions_f.html  \n",
            "  inflating: fastText-0.9.2/website/static/docs/en/html/functions_func.html  \n",
            "  inflating: fastText-0.9.2/website/static/docs/en/html/functions_g.html  \n",
            "  inflating: fastText-0.9.2/website/static/docs/en/html/functions_h.html  \n",
            "  inflating: fastText-0.9.2/website/static/docs/en/html/functions_i.html  \n",
            "  inflating: fastText-0.9.2/website/static/docs/en/html/functions_k.html  \n",
            "  inflating: fastText-0.9.2/website/static/docs/en/html/functions_l.html  \n",
            "  inflating: fastText-0.9.2/website/static/docs/en/html/functions_m.html  \n",
            "  inflating: fastText-0.9.2/website/static/docs/en/html/functions_n.html  \n",
            "  inflating: fastText-0.9.2/website/static/docs/en/html/functions_o.html  \n",
            "  inflating: fastText-0.9.2/website/static/docs/en/html/functions_p.html  \n",
            "  inflating: fastText-0.9.2/website/static/docs/en/html/functions_q.html  \n",
            "  inflating: fastText-0.9.2/website/static/docs/en/html/functions_r.html  \n",
            "  inflating: fastText-0.9.2/website/static/docs/en/html/functions_s.html  \n",
            "  inflating: fastText-0.9.2/website/static/docs/en/html/functions_t.html  \n",
            "  inflating: fastText-0.9.2/website/static/docs/en/html/functions_u.html  \n",
            "  inflating: fastText-0.9.2/website/static/docs/en/html/functions_v.html  \n",
            "  inflating: fastText-0.9.2/website/static/docs/en/html/functions_vars.html  \n",
            "  inflating: fastText-0.9.2/website/static/docs/en/html/functions_w.html  \n",
            "  inflating: fastText-0.9.2/website/static/docs/en/html/functions_z.html  \n",
            "  inflating: fastText-0.9.2/website/static/docs/en/html/globals.html  \n",
            "  inflating: fastText-0.9.2/website/static/docs/en/html/globals_defs.html  \n",
            "  inflating: fastText-0.9.2/website/static/docs/en/html/globals_func.html  \n",
            "  inflating: fastText-0.9.2/website/static/docs/en/html/index.html  \n",
            "  inflating: fastText-0.9.2/website/static/docs/en/html/jquery.js  \n",
            "  inflating: fastText-0.9.2/website/static/docs/en/html/main_8cc.html  \n",
            "  inflating: fastText-0.9.2/website/static/docs/en/html/main_8cc.js  \n",
            "  inflating: fastText-0.9.2/website/static/docs/en/html/matrix_8cc.html  \n",
            "  inflating: fastText-0.9.2/website/static/docs/en/html/matrix_8h.html  \n",
            "  inflating: fastText-0.9.2/website/static/docs/en/html/matrix_8h_source.html  \n",
            "  inflating: fastText-0.9.2/website/static/docs/en/html/menu.js  \n",
            "  inflating: fastText-0.9.2/website/static/docs/en/html/menudata.js  \n",
            "  inflating: fastText-0.9.2/website/static/docs/en/html/model_8cc.html  \n",
            "  inflating: fastText-0.9.2/website/static/docs/en/html/model_8h.html  \n",
            "  inflating: fastText-0.9.2/website/static/docs/en/html/model_8h.js  \n",
            "  inflating: fastText-0.9.2/website/static/docs/en/html/model_8h_source.html  \n",
            "  inflating: fastText-0.9.2/website/static/docs/en/html/namespacefasttext.html  \n",
            "  inflating: fastText-0.9.2/website/static/docs/en/html/namespacefasttext.js  \n",
            "  inflating: fastText-0.9.2/website/static/docs/en/html/namespacefasttext_1_1utils.html  \n",
            "  inflating: fastText-0.9.2/website/static/docs/en/html/namespacemembers.html  \n",
            "  inflating: fastText-0.9.2/website/static/docs/en/html/namespacemembers_enum.html  \n",
            "  inflating: fastText-0.9.2/website/static/docs/en/html/namespacemembers_func.html  \n",
            "  inflating: fastText-0.9.2/website/static/docs/en/html/namespacemembers_type.html  \n",
            "  inflating: fastText-0.9.2/website/static/docs/en/html/namespaces.html  \n",
            "  inflating: fastText-0.9.2/website/static/docs/en/html/namespaces.js  \n",
            " extracting: fastText-0.9.2/website/static/docs/en/html/nav_f.png  \n",
            "  inflating: fastText-0.9.2/website/static/docs/en/html/nav_g.png  \n",
            "  inflating: fastText-0.9.2/website/static/docs/en/html/nav_h.png  \n",
            "  inflating: fastText-0.9.2/website/static/docs/en/html/navtree.css  \n",
            "  inflating: fastText-0.9.2/website/static/docs/en/html/navtree.js  \n",
            "  inflating: fastText-0.9.2/website/static/docs/en/html/navtreedata.js  \n",
            "  inflating: fastText-0.9.2/website/static/docs/en/html/navtreeindex0.js  \n",
            "  inflating: fastText-0.9.2/website/static/docs/en/html/navtreeindex1.js  \n",
            "  inflating: fastText-0.9.2/website/static/docs/en/html/open.png  \n",
            "  inflating: fastText-0.9.2/website/static/docs/en/html/productquantizer_8cc.html  \n",
            "  inflating: fastText-0.9.2/website/static/docs/en/html/productquantizer_8cc.js  \n",
            "  inflating: fastText-0.9.2/website/static/docs/en/html/productquantizer_8h.html  \n",
            "  inflating: fastText-0.9.2/website/static/docs/en/html/productquantizer_8h_source.html  \n",
            "  inflating: fastText-0.9.2/website/static/docs/en/html/qmatrix_8cc.html  \n",
            "  inflating: fastText-0.9.2/website/static/docs/en/html/qmatrix_8h.html  \n",
            "  inflating: fastText-0.9.2/website/static/docs/en/html/qmatrix_8h_source.html  \n",
            "  inflating: fastText-0.9.2/website/static/docs/en/html/real_8h.html  \n",
            "  inflating: fastText-0.9.2/website/static/docs/en/html/real_8h.js  \n",
            "  inflating: fastText-0.9.2/website/static/docs/en/html/real_8h_source.html  \n",
            "  inflating: fastText-0.9.2/website/static/docs/en/html/resize.js  \n",
            "   creating: fastText-0.9.2/website/static/docs/en/html/search/\n",
            " extracting: fastText-0.9.2/website/static/docs/en/html/search/.files_7.html.StRRNc  \n",
            " extracting: fastText-0.9.2/website/static/docs/en/html/search/.variables_a.html.1MGQ27  \n",
            "  inflating: fastText-0.9.2/website/static/docs/en/html/search/all_0.html  \n",
            "  inflating: fastText-0.9.2/website/static/docs/en/html/search/all_0.js  \n",
            "  inflating: fastText-0.9.2/website/static/docs/en/html/search/all_1.html  \n",
            "  inflating: fastText-0.9.2/website/static/docs/en/html/search/all_1.js  \n",
            "  inflating: fastText-0.9.2/website/static/docs/en/html/search/all_10.html  \n",
            "  inflating: fastText-0.9.2/website/static/docs/en/html/search/all_10.js  \n",
            "  inflating: fastText-0.9.2/website/static/docs/en/html/search/all_11.html  \n",
            "  inflating: fastText-0.9.2/website/static/docs/en/html/search/all_11.js  \n",
            "  inflating: fastText-0.9.2/website/static/docs/en/html/search/all_12.html  \n",
            "  inflating: fastText-0.9.2/website/static/docs/en/html/search/all_12.js  \n",
            "  inflating: fastText-0.9.2/website/static/docs/en/html/search/all_13.html  \n",
            "  inflating: fastText-0.9.2/website/static/docs/en/html/search/all_13.js  \n",
            "  inflating: fastText-0.9.2/website/static/docs/en/html/search/all_14.html  \n",
            "  inflating: fastText-0.9.2/website/static/docs/en/html/search/all_14.js  \n",
            "  inflating: fastText-0.9.2/website/static/docs/en/html/search/all_15.html  \n",
            "  inflating: fastText-0.9.2/website/static/docs/en/html/search/all_15.js  \n",
            "  inflating: fastText-0.9.2/website/static/docs/en/html/search/all_16.html  \n",
            "  inflating: fastText-0.9.2/website/static/docs/en/html/search/all_16.js  \n",
            "  inflating: fastText-0.9.2/website/static/docs/en/html/search/all_17.html  \n",
            "  inflating: fastText-0.9.2/website/static/docs/en/html/search/all_17.js  \n",
            "  inflating: fastText-0.9.2/website/static/docs/en/html/search/all_2.html  \n",
            "  inflating: fastText-0.9.2/website/static/docs/en/html/search/all_2.js  \n",
            "  inflating: fastText-0.9.2/website/static/docs/en/html/search/all_3.html  \n",
            "  inflating: fastText-0.9.2/website/static/docs/en/html/search/all_3.js  \n",
            "  inflating: fastText-0.9.2/website/static/docs/en/html/search/all_4.html  \n",
            "  inflating: fastText-0.9.2/website/static/docs/en/html/search/all_4.js  \n",
            "  inflating: fastText-0.9.2/website/static/docs/en/html/search/all_5.html  \n",
            "  inflating: fastText-0.9.2/website/static/docs/en/html/search/all_5.js  \n",
            "  inflating: fastText-0.9.2/website/static/docs/en/html/search/all_6.html  \n",
            "  inflating: fastText-0.9.2/website/static/docs/en/html/search/all_6.js  \n",
            "  inflating: fastText-0.9.2/website/static/docs/en/html/search/all_7.html  \n",
            "  inflating: fastText-0.9.2/website/static/docs/en/html/search/all_7.js  \n",
            "  inflating: fastText-0.9.2/website/static/docs/en/html/search/all_8.html  \n",
            "  inflating: fastText-0.9.2/website/static/docs/en/html/search/all_8.js  \n",
            "  inflating: fastText-0.9.2/website/static/docs/en/html/search/all_9.html  \n",
            "  inflating: fastText-0.9.2/website/static/docs/en/html/search/all_9.js  \n",
            "  inflating: fastText-0.9.2/website/static/docs/en/html/search/all_a.html  \n",
            "  inflating: fastText-0.9.2/website/static/docs/en/html/search/all_a.js  \n",
            "  inflating: fastText-0.9.2/website/static/docs/en/html/search/all_b.html  \n",
            "  inflating: fastText-0.9.2/website/static/docs/en/html/search/all_b.js  \n",
            "  inflating: fastText-0.9.2/website/static/docs/en/html/search/all_c.html  \n",
            "  inflating: fastText-0.9.2/website/static/docs/en/html/search/all_c.js  \n",
            "  inflating: fastText-0.9.2/website/static/docs/en/html/search/all_d.html  \n",
            "  inflating: fastText-0.9.2/website/static/docs/en/html/search/all_d.js  \n",
            "  inflating: fastText-0.9.2/website/static/docs/en/html/search/all_e.html  \n",
            "  inflating: fastText-0.9.2/website/static/docs/en/html/search/all_e.js  \n",
            "  inflating: fastText-0.9.2/website/static/docs/en/html/search/all_f.html  \n",
            "  inflating: fastText-0.9.2/website/static/docs/en/html/search/all_f.js  \n",
            "  inflating: fastText-0.9.2/website/static/docs/en/html/search/classes_0.html  \n",
            "  inflating: fastText-0.9.2/website/static/docs/en/html/search/classes_0.js  \n",
            "  inflating: fastText-0.9.2/website/static/docs/en/html/search/classes_1.html  \n",
            "  inflating: fastText-0.9.2/website/static/docs/en/html/search/classes_1.js  \n",
            "  inflating: fastText-0.9.2/website/static/docs/en/html/search/classes_2.html  \n",
            "  inflating: fastText-0.9.2/website/static/docs/en/html/search/classes_2.js  \n",
            "  inflating: fastText-0.9.2/website/static/docs/en/html/search/classes_3.html  \n",
            "  inflating: fastText-0.9.2/website/static/docs/en/html/search/classes_3.js  \n",
            "  inflating: fastText-0.9.2/website/static/docs/en/html/search/classes_4.html  \n",
            "  inflating: fastText-0.9.2/website/static/docs/en/html/search/classes_4.js  \n",
            "  inflating: fastText-0.9.2/website/static/docs/en/html/search/classes_5.html  \n",
            "  inflating: fastText-0.9.2/website/static/docs/en/html/search/classes_5.js  \n",
            "  inflating: fastText-0.9.2/website/static/docs/en/html/search/classes_6.html  \n",
            "  inflating: fastText-0.9.2/website/static/docs/en/html/search/classes_6.js  \n",
            "  inflating: fastText-0.9.2/website/static/docs/en/html/search/classes_7.html  \n",
            "  inflating: fastText-0.9.2/website/static/docs/en/html/search/classes_7.js  \n",
            "  inflating: fastText-0.9.2/website/static/docs/en/html/search/classes_8.html  \n",
            "  inflating: fastText-0.9.2/website/static/docs/en/html/search/classes_8.js  \n",
            " extracting: fastText-0.9.2/website/static/docs/en/html/search/close.png  \n",
            "  inflating: fastText-0.9.2/website/static/docs/en/html/search/defines_0.html  \n",
            "  inflating: fastText-0.9.2/website/static/docs/en/html/search/defines_0.js  \n",
            "  inflating: fastText-0.9.2/website/static/docs/en/html/search/defines_1.html  \n",
            "  inflating: fastText-0.9.2/website/static/docs/en/html/search/defines_1.js  \n",
            "  inflating: fastText-0.9.2/website/static/docs/en/html/search/defines_2.html  \n",
            "  inflating: fastText-0.9.2/website/static/docs/en/html/search/defines_2.js  \n",
            "  inflating: fastText-0.9.2/website/static/docs/en/html/search/defines_3.html  \n",
            "  inflating: fastText-0.9.2/website/static/docs/en/html/search/defines_3.js  \n",
            "  inflating: fastText-0.9.2/website/static/docs/en/html/search/enums_0.html  \n",
            "  inflating: fastText-0.9.2/website/static/docs/en/html/search/enums_0.js  \n",
            "  inflating: fastText-0.9.2/website/static/docs/en/html/search/enums_1.html  \n",
            "  inflating: fastText-0.9.2/website/static/docs/en/html/search/enums_1.js  \n",
            "  inflating: fastText-0.9.2/website/static/docs/en/html/search/enums_2.html  \n",
            "  inflating: fastText-0.9.2/website/static/docs/en/html/search/enums_2.js  \n",
            "  inflating: fastText-0.9.2/website/static/docs/en/html/search/enumvalues_0.html  \n",
            "  inflating: fastText-0.9.2/website/static/docs/en/html/search/enumvalues_0.js  \n",
            "  inflating: fastText-0.9.2/website/static/docs/en/html/search/enumvalues_1.html  \n",
            "  inflating: fastText-0.9.2/website/static/docs/en/html/search/enumvalues_1.js  \n",
            "  inflating: fastText-0.9.2/website/static/docs/en/html/search/enumvalues_2.html  \n",
            "  inflating: fastText-0.9.2/website/static/docs/en/html/search/enumvalues_2.js  \n",
            "  inflating: fastText-0.9.2/website/static/docs/en/html/search/enumvalues_3.html  \n",
            "  inflating: fastText-0.9.2/website/static/docs/en/html/search/enumvalues_3.js  \n",
            "  inflating: fastText-0.9.2/website/static/docs/en/html/search/enumvalues_4.html  \n",
            "  inflating: fastText-0.9.2/website/static/docs/en/html/search/enumvalues_4.js  \n",
            "  inflating: fastText-0.9.2/website/static/docs/en/html/search/enumvalues_5.html  \n",
            "  inflating: fastText-0.9.2/website/static/docs/en/html/search/enumvalues_5.js  \n",
            "  inflating: fastText-0.9.2/website/static/docs/en/html/search/files_0.html  \n",
            "  inflating: fastText-0.9.2/website/static/docs/en/html/search/files_0.js  \n",
            "  inflating: fastText-0.9.2/website/static/docs/en/html/search/files_1.html  \n",
            "  inflating: fastText-0.9.2/website/static/docs/en/html/search/files_1.js  \n",
            "  inflating: fastText-0.9.2/website/static/docs/en/html/search/files_2.html  \n",
            "  inflating: fastText-0.9.2/website/static/docs/en/html/search/files_2.js  \n",
            "  inflating: fastText-0.9.2/website/static/docs/en/html/search/files_3.html  \n",
            "  inflating: fastText-0.9.2/website/static/docs/en/html/search/files_3.js  \n",
            "  inflating: fastText-0.9.2/website/static/docs/en/html/search/files_4.html  \n",
            "  inflating: fastText-0.9.2/website/static/docs/en/html/search/files_4.js  \n",
            "  inflating: fastText-0.9.2/website/static/docs/en/html/search/files_5.html  \n",
            "  inflating: fastText-0.9.2/website/static/docs/en/html/search/files_5.js  \n",
            "  inflating: fastText-0.9.2/website/static/docs/en/html/search/files_6.html  \n",
            "  inflating: fastText-0.9.2/website/static/docs/en/html/search/files_6.js  \n",
            "  inflating: fastText-0.9.2/website/static/docs/en/html/search/files_7.html  \n",
            "  inflating: fastText-0.9.2/website/static/docs/en/html/search/files_7.js  \n",
            "  inflating: fastText-0.9.2/website/static/docs/en/html/search/files_8.html  \n",
            "  inflating: fastText-0.9.2/website/static/docs/en/html/search/files_8.js  \n",
            "  inflating: fastText-0.9.2/website/static/docs/en/html/search/functions_0.html  \n",
            "  inflating: fastText-0.9.2/website/static/docs/en/html/search/functions_0.js  \n",
            "  inflating: fastText-0.9.2/website/static/docs/en/html/search/functions_1.html  \n",
            "  inflating: fastText-0.9.2/website/static/docs/en/html/search/functions_1.js  \n",
            "  inflating: fastText-0.9.2/website/static/docs/en/html/search/functions_10.html  \n",
            "  inflating: fastText-0.9.2/website/static/docs/en/html/search/functions_10.js  \n",
            "  inflating: fastText-0.9.2/website/static/docs/en/html/search/functions_11.html  \n",
            "  inflating: fastText-0.9.2/website/static/docs/en/html/search/functions_11.js  \n",
            "  inflating: fastText-0.9.2/website/static/docs/en/html/search/functions_12.html  \n",
            "  inflating: fastText-0.9.2/website/static/docs/en/html/search/functions_12.js  \n",
            "  inflating: fastText-0.9.2/website/static/docs/en/html/search/functions_13.html  \n",
            "  inflating: fastText-0.9.2/website/static/docs/en/html/search/functions_13.js  \n",
            "  inflating: fastText-0.9.2/website/static/docs/en/html/search/functions_14.html  \n",
            "  inflating: fastText-0.9.2/website/static/docs/en/html/search/functions_14.js  \n",
            "  inflating: fastText-0.9.2/website/static/docs/en/html/search/functions_15.html  \n",
            "  inflating: fastText-0.9.2/website/static/docs/en/html/search/functions_15.js  \n",
            "  inflating: fastText-0.9.2/website/static/docs/en/html/search/functions_16.html  \n",
            "  inflating: fastText-0.9.2/website/static/docs/en/html/search/functions_16.js  \n",
            "  inflating: fastText-0.9.2/website/static/docs/en/html/search/functions_17.html  \n",
            "  inflating: fastText-0.9.2/website/static/docs/en/html/search/functions_17.js  \n",
            "  inflating: fastText-0.9.2/website/static/docs/en/html/search/functions_2.html  \n",
            "  inflating: fastText-0.9.2/website/static/docs/en/html/search/functions_2.js  \n",
            "  inflating: fastText-0.9.2/website/static/docs/en/html/search/functions_3.html  \n",
            "  inflating: fastText-0.9.2/website/static/docs/en/html/search/functions_3.js  \n",
            "  inflating: fastText-0.9.2/website/static/docs/en/html/search/functions_4.html  \n",
            "  inflating: fastText-0.9.2/website/static/docs/en/html/search/functions_4.js  \n",
            "  inflating: fastText-0.9.2/website/static/docs/en/html/search/functions_5.html  \n",
            "  inflating: fastText-0.9.2/website/static/docs/en/html/search/functions_5.js  \n",
            "  inflating: fastText-0.9.2/website/static/docs/en/html/search/functions_6.html  \n",
            "  inflating: fastText-0.9.2/website/static/docs/en/html/search/functions_6.js  \n",
            "  inflating: fastText-0.9.2/website/static/docs/en/html/search/functions_7.html  \n",
            "  inflating: fastText-0.9.2/website/static/docs/en/html/search/functions_7.js  \n",
            "  inflating: fastText-0.9.2/website/static/docs/en/html/search/functions_8.html  \n",
            "  inflating: fastText-0.9.2/website/static/docs/en/html/search/functions_8.js  \n",
            "  inflating: fastText-0.9.2/website/static/docs/en/html/search/functions_9.html  \n",
            "  inflating: fastText-0.9.2/website/static/docs/en/html/search/functions_9.js  \n",
            "  inflating: fastText-0.9.2/website/static/docs/en/html/search/functions_a.html  \n",
            "  inflating: fastText-0.9.2/website/static/docs/en/html/search/functions_a.js  \n",
            "  inflating: fastText-0.9.2/website/static/docs/en/html/search/functions_b.html  \n",
            "  inflating: fastText-0.9.2/website/static/docs/en/html/search/functions_b.js  \n",
            "  inflating: fastText-0.9.2/website/static/docs/en/html/search/functions_c.html  \n",
            "  inflating: fastText-0.9.2/website/static/docs/en/html/search/functions_c.js  \n",
            "  inflating: fastText-0.9.2/website/static/docs/en/html/search/functions_d.html  \n",
            "  inflating: fastText-0.9.2/website/static/docs/en/html/search/functions_d.js  \n",
            "  inflating: fastText-0.9.2/website/static/docs/en/html/search/functions_e.html  \n",
            "  inflating: fastText-0.9.2/website/static/docs/en/html/search/functions_e.js  \n",
            "  inflating: fastText-0.9.2/website/static/docs/en/html/search/functions_f.html  \n",
            "  inflating: fastText-0.9.2/website/static/docs/en/html/search/functions_f.js  \n",
            " extracting: fastText-0.9.2/website/static/docs/en/html/search/mag_sel.png  \n",
            "  inflating: fastText-0.9.2/website/static/docs/en/html/search/namespaces_0.html  \n",
            "  inflating: fastText-0.9.2/website/static/docs/en/html/search/namespaces_0.js  \n",
            "  inflating: fastText-0.9.2/website/static/docs/en/html/search/nomatches.html  \n",
            "  inflating: fastText-0.9.2/website/static/docs/en/html/search/search.css  \n",
            "  inflating: fastText-0.9.2/website/static/docs/en/html/search/search.js  \n",
            " extracting: fastText-0.9.2/website/static/docs/en/html/search/search_l.png  \n",
            "  inflating: fastText-0.9.2/website/static/docs/en/html/search/search_m.png  \n",
            " extracting: fastText-0.9.2/website/static/docs/en/html/search/search_r.png  \n",
            "  inflating: fastText-0.9.2/website/static/docs/en/html/search/searchdata.js  \n",
            "  inflating: fastText-0.9.2/website/static/docs/en/html/search/typedefs_0.html  \n",
            "  inflating: fastText-0.9.2/website/static/docs/en/html/search/typedefs_0.js  \n",
            "  inflating: fastText-0.9.2/website/static/docs/en/html/search/typedefs_1.html  \n",
            "  inflating: fastText-0.9.2/website/static/docs/en/html/search/typedefs_1.js  \n",
            "  inflating: fastText-0.9.2/website/static/docs/en/html/search/variables_0.html  \n",
            "  inflating: fastText-0.9.2/website/static/docs/en/html/search/variables_0.js  \n",
            "  inflating: fastText-0.9.2/website/static/docs/en/html/search/variables_1.html  \n",
            "  inflating: fastText-0.9.2/website/static/docs/en/html/search/variables_1.js  \n",
            "  inflating: fastText-0.9.2/website/static/docs/en/html/search/variables_10.html  \n",
            "  inflating: fastText-0.9.2/website/static/docs/en/html/search/variables_10.js  \n",
            "  inflating: fastText-0.9.2/website/static/docs/en/html/search/variables_11.html  \n",
            "  inflating: fastText-0.9.2/website/static/docs/en/html/search/variables_11.js  \n",
            "  inflating: fastText-0.9.2/website/static/docs/en/html/search/variables_12.html  \n",
            "  inflating: fastText-0.9.2/website/static/docs/en/html/search/variables_12.js  \n",
            "  inflating: fastText-0.9.2/website/static/docs/en/html/search/variables_13.html  \n",
            "  inflating: fastText-0.9.2/website/static/docs/en/html/search/variables_13.js  \n",
            "  inflating: fastText-0.9.2/website/static/docs/en/html/search/variables_2.html  \n",
            "  inflating: fastText-0.9.2/website/static/docs/en/html/search/variables_2.js  \n",
            "  inflating: fastText-0.9.2/website/static/docs/en/html/search/variables_3.html  \n",
            "  inflating: fastText-0.9.2/website/static/docs/en/html/search/variables_3.js  \n",
            "  inflating: fastText-0.9.2/website/static/docs/en/html/search/variables_4.html  \n",
            "  inflating: fastText-0.9.2/website/static/docs/en/html/search/variables_4.js  \n",
            "  inflating: fastText-0.9.2/website/static/docs/en/html/search/variables_5.html  \n",
            "  inflating: fastText-0.9.2/website/static/docs/en/html/search/variables_5.js  \n",
            "  inflating: fastText-0.9.2/website/static/docs/en/html/search/variables_6.html  \n",
            "  inflating: fastText-0.9.2/website/static/docs/en/html/search/variables_6.js  \n",
            "  inflating: fastText-0.9.2/website/static/docs/en/html/search/variables_7.html  \n",
            "  inflating: fastText-0.9.2/website/static/docs/en/html/search/variables_7.js  \n",
            "  inflating: fastText-0.9.2/website/static/docs/en/html/search/variables_8.html  \n",
            "  inflating: fastText-0.9.2/website/static/docs/en/html/search/variables_8.js  \n",
            "  inflating: fastText-0.9.2/website/static/docs/en/html/search/variables_9.html  \n",
            "  inflating: fastText-0.9.2/website/static/docs/en/html/search/variables_9.js  \n",
            "  inflating: fastText-0.9.2/website/static/docs/en/html/search/variables_a.html  \n",
            "  inflating: fastText-0.9.2/website/static/docs/en/html/search/variables_a.js  \n",
            "  inflating: fastText-0.9.2/website/static/docs/en/html/search/variables_b.html  \n",
            "  inflating: fastText-0.9.2/website/static/docs/en/html/search/variables_b.js  \n",
            "  inflating: fastText-0.9.2/website/static/docs/en/html/search/variables_c.html  \n",
            "  inflating: fastText-0.9.2/website/static/docs/en/html/search/variables_c.js  \n",
            "  inflating: fastText-0.9.2/website/static/docs/en/html/search/variables_d.html  \n",
            "  inflating: fastText-0.9.2/website/static/docs/en/html/search/variables_d.js  \n",
            "  inflating: fastText-0.9.2/website/static/docs/en/html/search/variables_e.html  \n",
            "  inflating: fastText-0.9.2/website/static/docs/en/html/search/variables_e.js  \n",
            "  inflating: fastText-0.9.2/website/static/docs/en/html/search/variables_f.html  \n",
            "  inflating: fastText-0.9.2/website/static/docs/en/html/search/variables_f.js  \n",
            "  inflating: fastText-0.9.2/website/static/docs/en/html/splitbar.png  \n",
            "  inflating: fastText-0.9.2/website/static/docs/en/html/structfasttext_1_1Node-members.html  \n",
            "  inflating: fastText-0.9.2/website/static/docs/en/html/structfasttext_1_1Node.html  \n",
            "  inflating: fastText-0.9.2/website/static/docs/en/html/structfasttext_1_1Node.js  \n",
            "  inflating: fastText-0.9.2/website/static/docs/en/html/structfasttext_1_1entry-members.html  \n",
            "  inflating: fastText-0.9.2/website/static/docs/en/html/structfasttext_1_1entry.html  \n",
            "  inflating: fastText-0.9.2/website/static/docs/en/html/structfasttext_1_1entry.js  \n",
            " extracting: fastText-0.9.2/website/static/docs/en/html/sync_off.png  \n",
            " extracting: fastText-0.9.2/website/static/docs/en/html/sync_on.png  \n",
            " extracting: fastText-0.9.2/website/static/docs/en/html/tab_a.png  \n",
            " extracting: fastText-0.9.2/website/static/docs/en/html/tab_b.png  \n",
            " extracting: fastText-0.9.2/website/static/docs/en/html/tab_h.png  \n",
            " extracting: fastText-0.9.2/website/static/docs/en/html/tab_s.png  \n",
            "  inflating: fastText-0.9.2/website/static/docs/en/html/tabs.css  \n",
            "  inflating: fastText-0.9.2/website/static/docs/en/html/utils_8cc.html  \n",
            "  inflating: fastText-0.9.2/website/static/docs/en/html/utils_8cc.js  \n",
            "  inflating: fastText-0.9.2/website/static/docs/en/html/utils_8h.html  \n",
            "  inflating: fastText-0.9.2/website/static/docs/en/html/utils_8h.js  \n",
            "  inflating: fastText-0.9.2/website/static/docs/en/html/utils_8h_source.html  \n",
            "  inflating: fastText-0.9.2/website/static/docs/en/html/vector_8cc.html  \n",
            "  inflating: fastText-0.9.2/website/static/docs/en/html/vector_8cc.js  \n",
            "  inflating: fastText-0.9.2/website/static/docs/en/html/vector_8h.html  \n",
            "  inflating: fastText-0.9.2/website/static/docs/en/html/vector_8h.js  \n",
            "  inflating: fastText-0.9.2/website/static/docs/en/html/vector_8h_source.html  \n",
            "  inflating: fastText-0.9.2/website/static/fasttext.css  \n",
            "   creating: fastText-0.9.2/website/static/img/\n",
            "   creating: fastText-0.9.2/website/static/img/authors/\n",
            "  inflating: fastText-0.9.2/website/static/img/authors/armand_joulin.jpg  \n",
            "  inflating: fastText-0.9.2/website/static/img/authors/christian_puhrsch.png  \n",
            "  inflating: fastText-0.9.2/website/static/img/authors/edouard_grave.jpeg  \n",
            "  inflating: fastText-0.9.2/website/static/img/authors/piotr_bojanowski.jpg  \n",
            "  inflating: fastText-0.9.2/website/static/img/authors/tomas_mikolov.jpg  \n",
            "   creating: fastText-0.9.2/website/static/img/blog/\n",
            "  inflating: fastText-0.9.2/website/static/img/blog/2016-08-18-blog-post-img1.png  \n",
            "  inflating: fastText-0.9.2/website/static/img/blog/2016-08-18-blog-post-img2.png  \n",
            "  inflating: fastText-0.9.2/website/static/img/blog/2017-05-02-blog-post-img1.jpg  \n",
            "  inflating: fastText-0.9.2/website/static/img/blog/2017-05-02-blog-post-img2.jpg  \n",
            "  inflating: fastText-0.9.2/website/static/img/blog/2017-10-02-blog-post-img1.png  \n",
            "  inflating: fastText-0.9.2/website/static/img/cbo_vs_skipgram.png  \n",
            "  inflating: fastText-0.9.2/website/static/img/fasttext-icon-api.png  \n",
            "  inflating: fastText-0.9.2/website/static/img/fasttext-icon-bg-web.png  \n",
            "  inflating: fastText-0.9.2/website/static/img/fasttext-icon-color-square.png  \n",
            "  inflating: fastText-0.9.2/website/static/img/fasttext-icon-color-web.png  \n",
            "  inflating: fastText-0.9.2/website/static/img/fasttext-icon-faq.png  \n",
            "  inflating: fastText-0.9.2/website/static/img/fasttext-icon-tutorial.png  \n",
            "  inflating: fastText-0.9.2/website/static/img/fasttext-icon-white-web.png  \n",
            "  inflating: fastText-0.9.2/website/static/img/fasttext-logo-color-web.png  \n",
            "  inflating: fastText-0.9.2/website/static/img/fasttext-logo-white-web.png  \n",
            "  inflating: fastText-0.9.2/website/static/img/logo-color.png  \n",
            "  inflating: fastText-0.9.2/website/static/img/model-black.png  \n",
            "  inflating: fastText-0.9.2/website/static/img/model-blue.png  \n",
            "  inflating: fastText-0.9.2/website/static/img/model-red.png  \n",
            "  inflating: fastText-0.9.2/website/static/img/ogimage.png  \n",
            "  inflating: fastText-0.9.2/website/static/img/oss_logo.png  \n",
            "  inflating: fastText-0.9.2/website/static/tabber.js  \n",
            "  inflating: fastText-0.9.2/wikifil.pl  \n",
            "  inflating: fastText-0.9.2/word-vector-example.sh  \n"
          ]
        }
      ]
    },
    {
      "cell_type": "code",
      "source": [
        "! cd fastText-0.9.2\n",
        "# for command line tool :\n",
        "! make\n",
        "# for python bindings :\n",
        "! pip install fasttext"
      ],
      "metadata": {
        "colab": {
          "base_uri": "https://localhost:8080/"
        },
        "id": "OsxmNjxvz0u_",
        "outputId": "7df415fe-5fc3-40ec-dfb5-53e480c27f06"
      },
      "execution_count": 3,
      "outputs": [
        {
          "output_type": "stream",
          "name": "stdout",
          "text": [
            "make: *** No targets specified and no makefile found.  Stop.\n",
            "Collecting fasttext\n",
            "  Downloading fasttext-0.9.2.tar.gz (68 kB)\n",
            "\u001b[K     |████████████████████████████████| 68 kB 3.1 MB/s \n",
            "\u001b[?25hCollecting pybind11>=2.2\n",
            "  Using cached pybind11-2.9.2-py2.py3-none-any.whl (213 kB)\n",
            "Requirement already satisfied: setuptools>=0.7.0 in /usr/local/lib/python3.7/dist-packages (from fasttext) (57.4.0)\n",
            "Requirement already satisfied: numpy in /usr/local/lib/python3.7/dist-packages (from fasttext) (1.21.6)\n",
            "Building wheels for collected packages: fasttext\n",
            "  Building wheel for fasttext (setup.py) ... \u001b[?25l\u001b[?25hdone\n",
            "  Created wheel for fasttext: filename=fasttext-0.9.2-cp37-cp37m-linux_x86_64.whl size=3141830 sha256=4c357a4a19f06bc8e799a4266d1592ff21c1322d3980ec79b83d15d43be66d9a\n",
            "  Stored in directory: /root/.cache/pip/wheels/4e/ca/bf/b020d2be95f7641801a6597a29c8f4f19e38f9c02a345bab9b\n",
            "Successfully built fasttext\n",
            "Installing collected packages: pybind11, fasttext\n",
            "Successfully installed fasttext-0.9.2 pybind11-2.9.2\n"
          ]
        }
      ]
    },
    {
      "cell_type": "markdown",
      "source": [
        "This notebook showcases the performance of fastText on the dataset D_Unbalanced. The model and its output can be found at the end of the notebook. "
      ],
      "metadata": {
        "id": "WnOgCnkbQmms"
      }
    },
    {
      "cell_type": "code",
      "source": [
        "#Generic libraries\n",
        "import pandas as pd\n",
        "import numpy as np\n",
        "\n",
        "#Library for preprocessing\n",
        "from gensim.utils import simple_preprocess\n",
        "\n",
        "#Library for fastText\n",
        "import fasttext\n",
        "\n",
        "#Library for csv file manipulation\n",
        "import csv\n",
        "\n",
        "#sklearn modules \n",
        "from sklearn.model_selection import train_test_split\n",
        "from sklearn.metrics import confusion_matrix\n",
        "from sklearn.metrics import classification_report\n"
      ],
      "metadata": {
        "id": "jgbfwbeM2ug3"
      },
      "execution_count": 4,
      "outputs": []
    },
    {
      "cell_type": "code",
      "source": [
        "df = pd.read_csv(\"data_preprocessed_for_fasttext.csv\", lineterminator='\\n')"
      ],
      "metadata": {
        "id": "6w_Xs9IX5bAW"
      },
      "execution_count": 5,
      "outputs": []
    },
    {
      "cell_type": "code",
      "source": [
        "df.head()"
      ],
      "metadata": {
        "id": "_6bEaScK5iI8",
        "colab": {
          "base_uri": "https://localhost:8080/",
          "height": 206
        },
        "outputId": "6128a649-d0a6-4bb0-90e2-47e256cac8c8"
      },
      "execution_count": 6,
      "outputs": [
        {
          "output_type": "execute_result",
          "data": {
            "text/plain": [
              "                                               issue  label  \\\n",
              "0  __label__bug `parse_tax_data` should be able t...      0   \n",
              "1  __label__bug Problems with creating new custom...      0   \n",
              "2  __label__bug GCP Client does not put snapshot ...      0   \n",
              "3  __label__bug Fix Vue default object property I...      0   \n",
              "4  __label__bug Error message for duplicate user ...      0   \n",
              "\n",
              "                                                text  \\\n",
              "0  `parse_tax_data` should be able to generate de...   \n",
              "1  Problems with creating new custom recipes for ...   \n",
              "2  GCP Client does not put snapshot id in output ...   \n",
              "3  Fix Vue default object property IntelliSense C...   \n",
              "4  Error message for duplicate user names  Right ...   \n",
              "\n",
              "                                        cleaned_text  \n",
              "0  parse tax data should be able to generate defa...  \n",
              "1  Problems with creating new custom recipes for ...  \n",
              "2  GCP Client does not put snapshot id in output ...  \n",
              "3  Fix Vue default object property IntelliSense C...  \n",
              "4  Error message for duplicate user names Right n...  "
            ],
            "text/html": [
              "\n",
              "  <div id=\"df-2b46f415-c48e-4573-b6a9-e51c1fae811e\">\n",
              "    <div class=\"colab-df-container\">\n",
              "      <div>\n",
              "<style scoped>\n",
              "    .dataframe tbody tr th:only-of-type {\n",
              "        vertical-align: middle;\n",
              "    }\n",
              "\n",
              "    .dataframe tbody tr th {\n",
              "        vertical-align: top;\n",
              "    }\n",
              "\n",
              "    .dataframe thead th {\n",
              "        text-align: right;\n",
              "    }\n",
              "</style>\n",
              "<table border=\"1\" class=\"dataframe\">\n",
              "  <thead>\n",
              "    <tr style=\"text-align: right;\">\n",
              "      <th></th>\n",
              "      <th>issue</th>\n",
              "      <th>label</th>\n",
              "      <th>text</th>\n",
              "      <th>cleaned_text</th>\n",
              "    </tr>\n",
              "  </thead>\n",
              "  <tbody>\n",
              "    <tr>\n",
              "      <th>0</th>\n",
              "      <td>__label__bug `parse_tax_data` should be able t...</td>\n",
              "      <td>0</td>\n",
              "      <td>`parse_tax_data` should be able to generate de...</td>\n",
              "      <td>parse tax data should be able to generate defa...</td>\n",
              "    </tr>\n",
              "    <tr>\n",
              "      <th>1</th>\n",
              "      <td>__label__bug Problems with creating new custom...</td>\n",
              "      <td>0</td>\n",
              "      <td>Problems with creating new custom recipes for ...</td>\n",
              "      <td>Problems with creating new custom recipes for ...</td>\n",
              "    </tr>\n",
              "    <tr>\n",
              "      <th>2</th>\n",
              "      <td>__label__bug GCP Client does not put snapshot ...</td>\n",
              "      <td>0</td>\n",
              "      <td>GCP Client does not put snapshot id in output ...</td>\n",
              "      <td>GCP Client does not put snapshot id in output ...</td>\n",
              "    </tr>\n",
              "    <tr>\n",
              "      <th>3</th>\n",
              "      <td>__label__bug Fix Vue default object property I...</td>\n",
              "      <td>0</td>\n",
              "      <td>Fix Vue default object property IntelliSense C...</td>\n",
              "      <td>Fix Vue default object property IntelliSense C...</td>\n",
              "    </tr>\n",
              "    <tr>\n",
              "      <th>4</th>\n",
              "      <td>__label__bug Error message for duplicate user ...</td>\n",
              "      <td>0</td>\n",
              "      <td>Error message for duplicate user names  Right ...</td>\n",
              "      <td>Error message for duplicate user names Right n...</td>\n",
              "    </tr>\n",
              "  </tbody>\n",
              "</table>\n",
              "</div>\n",
              "      <button class=\"colab-df-convert\" onclick=\"convertToInteractive('df-2b46f415-c48e-4573-b6a9-e51c1fae811e')\"\n",
              "              title=\"Convert this dataframe to an interactive table.\"\n",
              "              style=\"display:none;\">\n",
              "        \n",
              "  <svg xmlns=\"http://www.w3.org/2000/svg\" height=\"24px\"viewBox=\"0 0 24 24\"\n",
              "       width=\"24px\">\n",
              "    <path d=\"M0 0h24v24H0V0z\" fill=\"none\"/>\n",
              "    <path d=\"M18.56 5.44l.94 2.06.94-2.06 2.06-.94-2.06-.94-.94-2.06-.94 2.06-2.06.94zm-11 1L8.5 8.5l.94-2.06 2.06-.94-2.06-.94L8.5 2.5l-.94 2.06-2.06.94zm10 10l.94 2.06.94-2.06 2.06-.94-2.06-.94-.94-2.06-.94 2.06-2.06.94z\"/><path d=\"M17.41 7.96l-1.37-1.37c-.4-.4-.92-.59-1.43-.59-.52 0-1.04.2-1.43.59L10.3 9.45l-7.72 7.72c-.78.78-.78 2.05 0 2.83L4 21.41c.39.39.9.59 1.41.59.51 0 1.02-.2 1.41-.59l7.78-7.78 2.81-2.81c.8-.78.8-2.07 0-2.86zM5.41 20L4 18.59l7.72-7.72 1.47 1.35L5.41 20z\"/>\n",
              "  </svg>\n",
              "      </button>\n",
              "      \n",
              "  <style>\n",
              "    .colab-df-container {\n",
              "      display:flex;\n",
              "      flex-wrap:wrap;\n",
              "      gap: 12px;\n",
              "    }\n",
              "\n",
              "    .colab-df-convert {\n",
              "      background-color: #E8F0FE;\n",
              "      border: none;\n",
              "      border-radius: 50%;\n",
              "      cursor: pointer;\n",
              "      display: none;\n",
              "      fill: #1967D2;\n",
              "      height: 32px;\n",
              "      padding: 0 0 0 0;\n",
              "      width: 32px;\n",
              "    }\n",
              "\n",
              "    .colab-df-convert:hover {\n",
              "      background-color: #E2EBFA;\n",
              "      box-shadow: 0px 1px 2px rgba(60, 64, 67, 0.3), 0px 1px 3px 1px rgba(60, 64, 67, 0.15);\n",
              "      fill: #174EA6;\n",
              "    }\n",
              "\n",
              "    [theme=dark] .colab-df-convert {\n",
              "      background-color: #3B4455;\n",
              "      fill: #D2E3FC;\n",
              "    }\n",
              "\n",
              "    [theme=dark] .colab-df-convert:hover {\n",
              "      background-color: #434B5C;\n",
              "      box-shadow: 0px 1px 3px 1px rgba(0, 0, 0, 0.15);\n",
              "      filter: drop-shadow(0px 1px 2px rgba(0, 0, 0, 0.3));\n",
              "      fill: #FFFFFF;\n",
              "    }\n",
              "  </style>\n",
              "\n",
              "      <script>\n",
              "        const buttonEl =\n",
              "          document.querySelector('#df-2b46f415-c48e-4573-b6a9-e51c1fae811e button.colab-df-convert');\n",
              "        buttonEl.style.display =\n",
              "          google.colab.kernel.accessAllowed ? 'block' : 'none';\n",
              "\n",
              "        async function convertToInteractive(key) {\n",
              "          const element = document.querySelector('#df-2b46f415-c48e-4573-b6a9-e51c1fae811e');\n",
              "          const dataTable =\n",
              "            await google.colab.kernel.invokeFunction('convertToInteractive',\n",
              "                                                     [key], {});\n",
              "          if (!dataTable) return;\n",
              "\n",
              "          const docLinkHtml = 'Like what you see? Visit the ' +\n",
              "            '<a target=\"_blank\" href=https://colab.research.google.com/notebooks/data_table.ipynb>data table notebook</a>'\n",
              "            + ' to learn more about interactive tables.';\n",
              "          element.innerHTML = '';\n",
              "          dataTable['output_type'] = 'display_data';\n",
              "          await google.colab.output.renderOutput(dataTable, element);\n",
              "          const docLink = document.createElement('div');\n",
              "          docLink.innerHTML = docLinkHtml;\n",
              "          element.appendChild(docLink);\n",
              "        }\n",
              "      </script>\n",
              "    </div>\n",
              "  </div>\n",
              "  "
            ]
          },
          "metadata": {},
          "execution_count": 6
        }
      ]
    },
    {
      "cell_type": "markdown",
      "source": [
        "The data we're working with here has already been cleaned and preprocessed. Along with the original data, we have the cleaned data which is what we'll be working with. "
      ],
      "metadata": {
        "id": "q5agfSSsRKO7"
      }
    },
    {
      "cell_type": "code",
      "source": [
        "df.describe()"
      ],
      "metadata": {
        "id": "6y5SanG08SKw",
        "colab": {
          "base_uri": "https://localhost:8080/",
          "height": 300
        },
        "outputId": "b28b4fa1-42f3-4f00-a312-7abfde93f64d"
      },
      "execution_count": 7,
      "outputs": [
        {
          "output_type": "execute_result",
          "data": {
            "text/plain": [
              "              label\n",
              "count  13000.000000\n",
              "mean       0.846154\n",
              "std        0.769260\n",
              "min        0.000000\n",
              "25%        0.000000\n",
              "50%        1.000000\n",
              "75%        1.000000\n",
              "max        2.000000"
            ],
            "text/html": [
              "\n",
              "  <div id=\"df-e76f0b54-c7d6-4e26-be05-d1b93f6c848c\">\n",
              "    <div class=\"colab-df-container\">\n",
              "      <div>\n",
              "<style scoped>\n",
              "    .dataframe tbody tr th:only-of-type {\n",
              "        vertical-align: middle;\n",
              "    }\n",
              "\n",
              "    .dataframe tbody tr th {\n",
              "        vertical-align: top;\n",
              "    }\n",
              "\n",
              "    .dataframe thead th {\n",
              "        text-align: right;\n",
              "    }\n",
              "</style>\n",
              "<table border=\"1\" class=\"dataframe\">\n",
              "  <thead>\n",
              "    <tr style=\"text-align: right;\">\n",
              "      <th></th>\n",
              "      <th>label</th>\n",
              "    </tr>\n",
              "  </thead>\n",
              "  <tbody>\n",
              "    <tr>\n",
              "      <th>count</th>\n",
              "      <td>13000.000000</td>\n",
              "    </tr>\n",
              "    <tr>\n",
              "      <th>mean</th>\n",
              "      <td>0.846154</td>\n",
              "    </tr>\n",
              "    <tr>\n",
              "      <th>std</th>\n",
              "      <td>0.769260</td>\n",
              "    </tr>\n",
              "    <tr>\n",
              "      <th>min</th>\n",
              "      <td>0.000000</td>\n",
              "    </tr>\n",
              "    <tr>\n",
              "      <th>25%</th>\n",
              "      <td>0.000000</td>\n",
              "    </tr>\n",
              "    <tr>\n",
              "      <th>50%</th>\n",
              "      <td>1.000000</td>\n",
              "    </tr>\n",
              "    <tr>\n",
              "      <th>75%</th>\n",
              "      <td>1.000000</td>\n",
              "    </tr>\n",
              "    <tr>\n",
              "      <th>max</th>\n",
              "      <td>2.000000</td>\n",
              "    </tr>\n",
              "  </tbody>\n",
              "</table>\n",
              "</div>\n",
              "      <button class=\"colab-df-convert\" onclick=\"convertToInteractive('df-e76f0b54-c7d6-4e26-be05-d1b93f6c848c')\"\n",
              "              title=\"Convert this dataframe to an interactive table.\"\n",
              "              style=\"display:none;\">\n",
              "        \n",
              "  <svg xmlns=\"http://www.w3.org/2000/svg\" height=\"24px\"viewBox=\"0 0 24 24\"\n",
              "       width=\"24px\">\n",
              "    <path d=\"M0 0h24v24H0V0z\" fill=\"none\"/>\n",
              "    <path d=\"M18.56 5.44l.94 2.06.94-2.06 2.06-.94-2.06-.94-.94-2.06-.94 2.06-2.06.94zm-11 1L8.5 8.5l.94-2.06 2.06-.94-2.06-.94L8.5 2.5l-.94 2.06-2.06.94zm10 10l.94 2.06.94-2.06 2.06-.94-2.06-.94-.94-2.06-.94 2.06-2.06.94z\"/><path d=\"M17.41 7.96l-1.37-1.37c-.4-.4-.92-.59-1.43-.59-.52 0-1.04.2-1.43.59L10.3 9.45l-7.72 7.72c-.78.78-.78 2.05 0 2.83L4 21.41c.39.39.9.59 1.41.59.51 0 1.02-.2 1.41-.59l7.78-7.78 2.81-2.81c.8-.78.8-2.07 0-2.86zM5.41 20L4 18.59l7.72-7.72 1.47 1.35L5.41 20z\"/>\n",
              "  </svg>\n",
              "      </button>\n",
              "      \n",
              "  <style>\n",
              "    .colab-df-container {\n",
              "      display:flex;\n",
              "      flex-wrap:wrap;\n",
              "      gap: 12px;\n",
              "    }\n",
              "\n",
              "    .colab-df-convert {\n",
              "      background-color: #E8F0FE;\n",
              "      border: none;\n",
              "      border-radius: 50%;\n",
              "      cursor: pointer;\n",
              "      display: none;\n",
              "      fill: #1967D2;\n",
              "      height: 32px;\n",
              "      padding: 0 0 0 0;\n",
              "      width: 32px;\n",
              "    }\n",
              "\n",
              "    .colab-df-convert:hover {\n",
              "      background-color: #E2EBFA;\n",
              "      box-shadow: 0px 1px 2px rgba(60, 64, 67, 0.3), 0px 1px 3px 1px rgba(60, 64, 67, 0.15);\n",
              "      fill: #174EA6;\n",
              "    }\n",
              "\n",
              "    [theme=dark] .colab-df-convert {\n",
              "      background-color: #3B4455;\n",
              "      fill: #D2E3FC;\n",
              "    }\n",
              "\n",
              "    [theme=dark] .colab-df-convert:hover {\n",
              "      background-color: #434B5C;\n",
              "      box-shadow: 0px 1px 3px 1px rgba(0, 0, 0, 0.15);\n",
              "      filter: drop-shadow(0px 1px 2px rgba(0, 0, 0, 0.3));\n",
              "      fill: #FFFFFF;\n",
              "    }\n",
              "  </style>\n",
              "\n",
              "      <script>\n",
              "        const buttonEl =\n",
              "          document.querySelector('#df-e76f0b54-c7d6-4e26-be05-d1b93f6c848c button.colab-df-convert');\n",
              "        buttonEl.style.display =\n",
              "          google.colab.kernel.accessAllowed ? 'block' : 'none';\n",
              "\n",
              "        async function convertToInteractive(key) {\n",
              "          const element = document.querySelector('#df-e76f0b54-c7d6-4e26-be05-d1b93f6c848c');\n",
              "          const dataTable =\n",
              "            await google.colab.kernel.invokeFunction('convertToInteractive',\n",
              "                                                     [key], {});\n",
              "          if (!dataTable) return;\n",
              "\n",
              "          const docLinkHtml = 'Like what you see? Visit the ' +\n",
              "            '<a target=\"_blank\" href=https://colab.research.google.com/notebooks/data_table.ipynb>data table notebook</a>'\n",
              "            + ' to learn more about interactive tables.';\n",
              "          element.innerHTML = '';\n",
              "          dataTable['output_type'] = 'display_data';\n",
              "          await google.colab.output.renderOutput(dataTable, element);\n",
              "          const docLink = document.createElement('div');\n",
              "          docLink.innerHTML = docLinkHtml;\n",
              "          element.appendChild(docLink);\n",
              "        }\n",
              "      </script>\n",
              "    </div>\n",
              "  </div>\n",
              "  "
            ]
          },
          "metadata": {},
          "execution_count": 7
        }
      ]
    },
    {
      "cell_type": "code",
      "source": [
        "X = df['cleaned_text']\n",
        "X"
      ],
      "metadata": {
        "id": "43sa7vGX5vV6",
        "colab": {
          "base_uri": "https://localhost:8080/"
        },
        "outputId": "c48c2ee5-469d-474d-e70b-369f3c423f14"
      },
      "execution_count": 8,
      "outputs": [
        {
          "output_type": "execute_result",
          "data": {
            "text/plain": [
              "0        parse tax data should be able to generate defa...\n",
              "1        Problems with creating new custom recipes for ...\n",
              "2        GCP Client does not put snapshot id in output ...\n",
              "3        Fix Vue default object property IntelliSense C...\n",
              "4        Error message for duplicate user names Right n...\n",
              "                               ...                        \n",
              "12995    Why is SA2 by DJZ 2011 re reading? In 2481 an ...\n",
              "12996    make errors last K release make clean make dis...\n",
              "12997    Is it possible to have different buying strate...\n",
              "12998    Should the log writer always handle it's own e...\n",
              "12999    Question Usage of adUnits.sizes will eventuall...\n",
              "Name: cleaned_text, Length: 13000, dtype: object"
            ]
          },
          "metadata": {},
          "execution_count": 8
        }
      ]
    },
    {
      "cell_type": "code",
      "source": [
        "y = df['label']\n",
        "y"
      ],
      "metadata": {
        "id": "aLCMwsk284Td",
        "colab": {
          "base_uri": "https://localhost:8080/"
        },
        "outputId": "f950c5b2-50b9-4d34-e334-4cf8efb25c09"
      },
      "execution_count": 9,
      "outputs": [
        {
          "output_type": "execute_result",
          "data": {
            "text/plain": [
              "0        0\n",
              "1        0\n",
              "2        0\n",
              "3        0\n",
              "4        0\n",
              "        ..\n",
              "12995    2\n",
              "12996    2\n",
              "12997    2\n",
              "12998    2\n",
              "12999    2\n",
              "Name: label, Length: 13000, dtype: int64"
            ]
          },
          "metadata": {},
          "execution_count": 9
        }
      ]
    },
    {
      "cell_type": "code",
      "source": [
        "train, test = train_test_split(df, test_size=0.2, random_state=16022022)"
      ],
      "metadata": {
        "id": "hlFe7nKI5vTg"
      },
      "execution_count": 10,
      "outputs": []
    },
    {
      "cell_type": "code",
      "source": [
        "# This step is skipped as the data is already preprocessed\n",
        "\n",
        "# train.iloc[:, 1] = train.iloc[:, 1].apply(lambda x: ' '.join(simple_preprocess(x)))\n",
        "# test.iloc[:, 1] = test.iloc[:, 1].apply(lambda x: ' '.join(simple_preprocess(x)))"
      ],
      "metadata": {
        "id": "IpT4R0WP7LMa"
      },
      "execution_count": 11,
      "outputs": []
    },
    {
      "cell_type": "code",
      "source": [
        "cols = ['cleaned_text', 'label']\n",
        "train = train[cols]\n",
        "test = test[cols]"
      ],
      "metadata": {
        "id": "--Xs9eU7-NWw"
      },
      "execution_count": 12,
      "outputs": []
    },
    {
      "cell_type": "code",
      "source": [
        "print(train.columns)"
      ],
      "metadata": {
        "id": "qGOVZutu7rTg",
        "colab": {
          "base_uri": "https://localhost:8080/"
        },
        "outputId": "5f302594-5398-4254-cde7-9b563cd5b527"
      },
      "execution_count": 13,
      "outputs": [
        {
          "output_type": "stream",
          "name": "stdout",
          "text": [
            "Index(['cleaned_text', 'label'], dtype='object')\n"
          ]
        }
      ]
    },
    {
      "cell_type": "code",
      "source": [
        "train['label']"
      ],
      "metadata": {
        "id": "5hj0g6PtIGVr",
        "colab": {
          "base_uri": "https://localhost:8080/"
        },
        "outputId": "0023d5f1-c389-48aa-ab75-dfc97eb4a7d6"
      },
      "execution_count": 14,
      "outputs": [
        {
          "output_type": "execute_result",
          "data": {
            "text/plain": [
              "454      0\n",
              "4741     0\n",
              "12934    2\n",
              "828      0\n",
              "6096     1\n",
              "        ..\n",
              "10321    2\n",
              "6813     1\n",
              "11670    2\n",
              "3340     0\n",
              "6223     1\n",
              "Name: label, Length: 10400, dtype: int64"
            ]
          },
          "metadata": {},
          "execution_count": 14
        }
      ]
    },
    {
      "cell_type": "code",
      "source": [
        "y_true_numbers = test['label']\n",
        "y_true_numbers"
      ],
      "metadata": {
        "id": "pj9aXaVmA0_w",
        "colab": {
          "base_uri": "https://localhost:8080/"
        },
        "outputId": "5d671d9e-e17b-44c7-e704-a57d5a5e0c1a"
      },
      "execution_count": 15,
      "outputs": [
        {
          "output_type": "execute_result",
          "data": {
            "text/plain": [
              "5232     1\n",
              "1572     0\n",
              "10652    2\n",
              "1386     0\n",
              "2119     0\n",
              "        ..\n",
              "11444    2\n",
              "11674    2\n",
              "5549     1\n",
              "4173     0\n",
              "3448     0\n",
              "Name: label, Length: 2600, dtype: int64"
            ]
          },
          "metadata": {},
          "execution_count": 15
        }
      ]
    },
    {
      "cell_type": "markdown",
      "source": [
        "We need the ground truth values as numbers before it is converted into categorical data for McNemar's test"
      ],
      "metadata": {
        "id": "uF1gTxvQSR0a"
      }
    },
    {
      "cell_type": "code",
      "source": [
        "# We need the labels to be in the format \"__label__xyz\" for fastText's input \n",
        "\n",
        "mapping = {0:'__label__bug', 1:'__label__enhancement', 2:'__label__question'}\n",
        "train['label'] = train['label'].apply(lambda x : mapping[x])"
      ],
      "metadata": {
        "id": "UOGocqLPBben"
      },
      "execution_count": 16,
      "outputs": []
    },
    {
      "cell_type": "code",
      "source": [
        "train['label']"
      ],
      "metadata": {
        "id": "6yvFXlUzGPQf",
        "colab": {
          "base_uri": "https://localhost:8080/"
        },
        "outputId": "11161553-736a-48ed-8bcb-759d4d011203"
      },
      "execution_count": 17,
      "outputs": [
        {
          "output_type": "execute_result",
          "data": {
            "text/plain": [
              "454              __label__bug\n",
              "4741             __label__bug\n",
              "12934       __label__question\n",
              "828              __label__bug\n",
              "6096     __label__enhancement\n",
              "                 ...         \n",
              "10321       __label__question\n",
              "6813     __label__enhancement\n",
              "11670       __label__question\n",
              "3340             __label__bug\n",
              "6223     __label__enhancement\n",
              "Name: label, Length: 10400, dtype: object"
            ]
          },
          "metadata": {},
          "execution_count": 17
        }
      ]
    },
    {
      "cell_type": "code",
      "source": [
        "test['label'] = test['label'].apply(lambda x : mapping[x])"
      ],
      "metadata": {
        "id": "0RjcSUkgKamj"
      },
      "execution_count": 18,
      "outputs": []
    },
    {
      "cell_type": "code",
      "source": [
        "train.to_csv('train_fasttext.txt', index = False, \n",
        "                                          sep = ' ',\n",
        "                                          header = None, \n",
        "                                          quoting = csv.QUOTE_NONE, \n",
        "                                          quotechar = \"\", \n",
        "                                          escapechar = \" \")\n",
        "test.to_csv('test_fasttext.txt', index = False, \n",
        "                                          sep = ' ',\n",
        "                                          header = None, \n",
        "                                          quoting = csv.QUOTE_NONE, \n",
        "                                          quotechar = \"\", \n",
        "                                          escapechar = \" \")"
      ],
      "metadata": {
        "id": "S8iugqm7759o"
      },
      "execution_count": 19,
      "outputs": []
    },
    {
      "cell_type": "code",
      "source": [
        "model = fasttext.train_supervised('train_fasttext.txt', wordNgrams = 2)\n",
        "\n",
        "model.test('test_fasttext.txt')"
      ],
      "metadata": {
        "id": "d8bIlUC88bvG",
        "colab": {
          "base_uri": "https://localhost:8080/"
        },
        "outputId": "eb9d9f8d-ad2b-4b86-81e0-c9cc7d2fb307"
      },
      "execution_count": 20,
      "outputs": [
        {
          "output_type": "execute_result",
          "data": {
            "text/plain": [
              "(2600, 0.6984615384615385, 0.6984615384615385)"
            ]
          },
          "metadata": {},
          "execution_count": 20
        }
      ]
    },
    {
      "cell_type": "code",
      "source": [
        "for i in range(0,5):\n",
        "  print(model.predict(test.iloc[i, 0]))"
      ],
      "metadata": {
        "id": "vY1umibwO20z",
        "colab": {
          "base_uri": "https://localhost:8080/"
        },
        "outputId": "ce40d9cb-55ed-4b73-c79d-3b186d14461b"
      },
      "execution_count": 21,
      "outputs": [
        {
          "output_type": "stream",
          "name": "stdout",
          "text": [
            "(('__label__enhancement',), array([0.59900939]))\n",
            "(('__label__bug',), array([0.49014324]))\n",
            "(('__label__enhancement',), array([0.67276031]))\n",
            "(('__label__enhancement',), array([0.37828413]))\n",
            "(('__label__bug',), array([0.50663692]))\n"
          ]
        }
      ]
    },
    {
      "cell_type": "code",
      "source": [
        "preds = []\n",
        "for data in test['cleaned_text']:\n",
        "  preds.append(model.predict(data))"
      ],
      "metadata": {
        "id": "n8mLX7WWNmc_"
      },
      "execution_count": 22,
      "outputs": []
    },
    {
      "cell_type": "code",
      "source": [
        "preds[0]"
      ],
      "metadata": {
        "id": "JErs_iMkQU4R",
        "colab": {
          "base_uri": "https://localhost:8080/"
        },
        "outputId": "288d4eb7-020f-4238-ed5f-ed0c34aec22c"
      },
      "execution_count": 23,
      "outputs": [
        {
          "output_type": "execute_result",
          "data": {
            "text/plain": [
              "(('__label__enhancement',), array([0.59900939]))"
            ]
          },
          "metadata": {},
          "execution_count": 23
        }
      ]
    },
    {
      "cell_type": "code",
      "source": [
        "testtuple = preds\n",
        "\n",
        "print(testtuple[0][0][0].split(\"'),\")[0])"
      ],
      "metadata": {
        "id": "00dVlaALQE-R",
        "colab": {
          "base_uri": "https://localhost:8080/"
        },
        "outputId": "b2317958-df06-4c89-c5e9-975f1436bb90"
      },
      "execution_count": 24,
      "outputs": [
        {
          "output_type": "stream",
          "name": "stdout",
          "text": [
            "__label__enhancement\n"
          ]
        }
      ]
    },
    {
      "cell_type": "code",
      "source": [
        "preds_clean=[]\n",
        "for data in preds:\n",
        "  preds_clean.append(data[0][0].split(\"'),\")[0])"
      ],
      "metadata": {
        "id": "LDrn2N65QezQ"
      },
      "execution_count": 25,
      "outputs": []
    },
    {
      "cell_type": "code",
      "source": [
        "preds_number = []\n",
        "\n",
        "for x in preds_clean:\n",
        "  if x == '__label__bug':\n",
        "    preds_number.append(0)\n",
        "  if x == '__label__enhancement':\n",
        "    preds_number.append(1)\n",
        "  if x == '__label__question':\n",
        "    preds_number.append(2)"
      ],
      "metadata": {
        "id": "8WKe2CjrOkUn"
      },
      "execution_count": 26,
      "outputs": []
    },
    {
      "cell_type": "markdown",
      "source": [
        "We need the predicted values as numbers for McNemar's test"
      ],
      "metadata": {
        "id": "9Z7d7BssTcwC"
      }
    },
    {
      "cell_type": "code",
      "source": [
        "confusion_matrix(test['label'], preds_clean)"
      ],
      "metadata": {
        "id": "tRzAqCROR1UG",
        "colab": {
          "base_uri": "https://localhost:8080/"
        },
        "outputId": "e9562651-c1e2-4ee8-e5e2-fd6e972ad0f0"
      },
      "execution_count": 27,
      "outputs": [
        {
          "output_type": "execute_result",
          "data": {
            "text/plain": [
              "array([[731, 188,  78],\n",
              "       [179, 739,  63],\n",
              "       [162, 114, 346]])"
            ]
          },
          "metadata": {},
          "execution_count": 27
        }
      ]
    },
    {
      "cell_type": "code",
      "source": [
        "target_names = ['bug', 'enhancements', 'question']\n",
        "print(classification_report(test['label'], preds_clean, target_names=target_names))"
      ],
      "metadata": {
        "id": "vFE6p_8SS-6V",
        "colab": {
          "base_uri": "https://localhost:8080/"
        },
        "outputId": "5d6c3164-0718-4df0-aa66-3ee7a72e2fa7"
      },
      "execution_count": 28,
      "outputs": [
        {
          "output_type": "stream",
          "name": "stdout",
          "text": [
            "              precision    recall  f1-score   support\n",
            "\n",
            "         bug       0.68      0.73      0.71       997\n",
            "enhancements       0.71      0.75      0.73       981\n",
            "    question       0.71      0.56      0.62       622\n",
            "\n",
            "    accuracy                           0.70      2600\n",
            "   macro avg       0.70      0.68      0.69      2600\n",
            "weighted avg       0.70      0.70      0.70      2600\n",
            "\n"
          ]
        }
      ]
    },
    {
      "cell_type": "code",
      "source": [
        "model.save_model(\"fasttext_model.bin\")"
      ],
      "metadata": {
        "id": "Hb48po_Yqc9n"
      },
      "execution_count": 29,
      "outputs": []
    }
  ]
}